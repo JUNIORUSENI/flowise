import pandas as pd
import numpy as np

# Générer 1000 points aléatoires de latitude et longitude
np.random.seed(42)
latitude = np.random.uniform(-90, 90, 1000)  # Latitude entre -90 et 90
longitude = np.random.uniform(-180, 180, 1000)  # Longitude entre -180 et 180

# Générer l'altitude avec une règle simple + un bruit aléatoire
altitude = 50 * latitude - 20 * longitude + np.random.normal(0, 10, 1000)  # Bruit = 10m en moyenne

# Créer un DataFrame
df = pd.DataFrame({'Latitude': latitude, 'Longitude': longitude, 'Altitude': altitude})

# Sauvegarder au format Excel
df.to_excel("dataset_altitude.xlsx", index=False)

print("Dataset généré et sauvegardé sous 'dataset_altitude.xlsx'")

from sklearn.model_selection import train_test_split
from sklearn.linear_model import LinearRegression
from sklearn.metrics import mean_absolute_error, mean_squared_error

# Charger les données
df = pd.read_excel("dataset_altitude.xlsx")

# Séparer les variables explicatives (X) et la variable cible (y)
X = df[['Latitude', 'Longitude']]
y = df['Altitude']

# Séparer en jeu d'entraînement (80%) et de test (20%)
X_train, X_test, y_train, y_test = train_test_split(X, y, test_size=0.2, random_state=42)

# Initialiser et entraîner le modèle
model = LinearRegression()
model.fit(X_train, y_train)

# Prédictions sur le jeu de test
y_pred = model.predict(X_test)

# Évaluer la performance du modèle
mae = mean_absolute_error(y_test, y_pred)
rmse = np.sqrt(mean_squared_error(y_test, y_pred))

print(f"Erreur absolue moyenne (MAE) : {mae:.2f} mètres")
print(f"Erreur quadratique moyenne (RMSE) : {rmse:.2f} mètres")

def predire_altitude(latitude, longitude):
    """
    Prédit l'altitude pour une latitude et longitude données.
    """
    coords = np.array([[latitude, longitude]])
    altitude_predite = model.predict(coords)[0]
    return altitude_predite

# Exemple d'utilisation
lat_test, lon_test = 10.5, 45.3  # Exemple de coordonnées
altitude_test = predire_altitude(lat_test, lon_test)

print(f"Altitude prédite pour ({lat_test}, {lon_test}) : {altitude_test:.2f} mètres")




import pandas as pd
import numpy as np

# Générer 1000 points de latitude et longitude
np.random.seed(42)
latitude = np.random.uniform(-90, 90, 1000)
longitude = np.random.uniform(-180, 180, 1000)

# Générer une altitude réaliste
altitude = np.random.uniform(0, 5000, 1000)

# Définir le type de terrain en fonction des règles
def assigner_type_terrain(lat, lon, alt):
    if alt < 200:
        return "Plaine"
    elif alt > 2000:
        return "Montagne"
    elif 200 <= alt <= 2000:
        if -30 < lat < 30 and -50 < lon < 50:
            return "Forêt"
        else:
            return "Vallée"
    else:
        return "Désert"

# Appliquer la règle à chaque point
terrain = [assigner_type_terrain(lat, lon, alt) for lat, lon, alt in zip(latitude, longitude, altitude)]

# Créer un DataFrame
df = pd.DataFrame({'Latitude': latitude, 'Longitude': longitude, 'Altitude': altitude, 'Type_Terrain': terrain})

# Sauvegarder au format Excel
df.to_excel("dataset_terrain.xlsx", index=False)

print("Dataset de classification des terrains généré et sauvegardé sous 'dataset_terrain.xlsx'")

from sklearn.model_selection import train_test_split
from sklearn.ensemble import RandomForestClassifier
from sklearn.metrics import accuracy_score, classification_report

# Charger les données
df = pd.read_excel("dataset_terrain.xlsx")

# Séparer les variables explicatives (X) et la variable cible (y)
X = df[['Latitude', 'Longitude', 'Altitude']]
y = df['Type_Terrain']

# Convertir les classes en valeurs numériques (encodage)
from sklearn.preprocessing import LabelEncoder
encoder = LabelEncoder()
y_encoded = encoder.fit_transform(y)

# Séparer en jeu d'entraînement (80%) et de test (20%)
X_train, X_test, y_train, y_test = train_test_split(X, y_encoded, test_size=0.2, random_state=42)

# Initialiser et entraîner un modèle Random Forest
model = RandomForestClassifier(n_estimators=100, random_state=42)
model.fit(X_train, y_train)

# Prédictions
y_pred = model.predict(X_test)

# Évaluer la performance
accuracy = accuracy_score(y_test, y_pred)
print(f"Précision du modèle : {accuracy * 100:.2f}%")

print(classification_report(y_test, y_pred, target_names=encoder.classes_))

def predire_terrain(latitude, longitude, altitude):
    """
    Prédit le type de terrain en fonction de la latitude, longitude et altitude.
    """
    coords = np.array([[latitude, longitude, altitude]])
    terrain_pred = model.predict(coords)[0]
    return encoder.inverse_transform([terrain_pred])[0]  # Convertir en texte

# Exemple d'utilisation
lat_test, lon_test, alt_test = 25.0, -40.0, 1500  # Coordonnées test
terrain_test = predire_terrain(lat_test, lon_test, alt_test)

print(f"Type de terrain prédit pour ({lat_test}, {lon_test}, {alt_test}m) : {terrain_test}")






import pandas as pd
import numpy as np

np.random.seed(42)  # Pour la reproductibilité

# Génération des variables
nb_points = 1000
pente = np.random.uniform(0, 40, nb_points)  # Pente entre 0 et 40%
pluviometrie = np.random.uniform(200, 2000, nb_points)  # Précipitations en mm/an
vegetation = np.random.uniform(0, 100, nb_points)  # Couverture végétale en %
types_sol = ["Sableux", "Argileux", "Limoneux", "Rocheux"]
sol = np.random.choice(types_sol, nb_points)  # Sélection aléatoire d’un type de sol

# Fonction pour déterminer l'érosion
def assigner_erosion(pente, pluie, vegetation, sol):
    if pente > 15 and pluie > 1000:
        return 1  # Forte érosion
    elif sol == "Sableux" and vegetation < 30:
        return 1  # Forte érosion
    else:
        return 0  # Faible érosion

# Appliquer la règle
erosion = [assigner_erosion(p, pl, v, s) for p, pl, v, s in zip(pente, pluviometrie, vegetation, sol)]

# Création du DataFrame
df = pd.DataFrame({
    "Pente (%)": pente,
    "Pluviométrie (mm/an)": pluviometrie,
    "Végétation (%)": vegetation,
    "Type de sol": sol,
    "Erosion": erosion
})

# Sauvegarde au format Excel
df.to_excel("dataset_erosion.xlsx", index=False)

print("Dataset d'érosion généré et sauvegardé sous 'dataset_erosion.xlsx'")


from sklearn.model_selection import train_test_split
from sklearn.ensemble import RandomForestClassifier
from sklearn.preprocessing import LabelEncoder
from sklearn.metrics import accuracy_score, classification_report

# Charger les données
df = pd.read_excel("dataset_erosion.xlsx")

# Encoder la variable "Type de sol"
encoder = LabelEncoder()
df["Type de sol"] = encoder.fit_transform(df["Type de sol"])

# Séparer les variables explicatives (X) et la cible (y)
X = df.drop(columns=["Erosion"])
y = df["Erosion"]

# Séparer en jeu d'entraînement et test
X_train, X_test, y_train, y_test = train_test_split(X, y, test_size=0.2, random_state=42)

# Initialiser le modèle
model = RandomForestClassifier(n_estimators=100, random_state=42)
model.fit(X_train, y_train)

# Évaluer le modèle
y_pred = model.predict(X_test)
accuracy = accuracy_score(y_test, y_pred)

print(f"Précision du modèle : {accuracy * 100:.2f}%")
print(classification_report(y_test, y_pred))



def predire_erosion(pente, pluie, vegetation, sol):
    """
    Prédit si une zone est sujette à l'érosion en fonction de la pente, 
    de la pluviométrie, de la végétation et du type de sol.
    """
    sol_encoded = encoder.transform([sol])[0]  # Encoder le type de sol
    data = np.array([[pente, pluie, vegetation, sol_encoded]])
    erosion_pred = model.predict(data)[0]
    return "Forte érosion" if erosion_pred == 1 else "Faible érosion"

# Exemple d'utilisation
pente_test, pluie_test, vegetation_test, sol_test = 20, 1200, 25, "Sableux"
erosion_test = predire_erosion(pente_test, pluie_test, vegetation_test, sol_test)

print(f"Prédiction pour pente={pente_test}%, pluie={pluie_test}mm/an, végétation={vegetation_test}%, sol={sol_test} : {erosion_test}")

